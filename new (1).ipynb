{
 "cells": [
  {
   "cell_type": "code",
   "execution_count": 1,
   "metadata": {},
   "outputs": [],
   "source": [
    "import pickle\n",
    "with open('model_pkl' , 'rb') as f:\n",
    "    lr = pickle.load(f)"
   ]
  },
  {
   "cell_type": "code",
   "execution_count": 4,
   "metadata": {},
   "outputs": [],
   "source": [
    "# x_val=[[123.4,333.5,161.4,525.6,235.7,768.5,886.5,998.00,987.3,888.5,656.7,889.4,662.3,884.6,356.4,172.3]]\n",
    "x_val=[[50,-0.0007,-0.007,444.56,1234.66,5467.88,234.88,4567.88,7869.09,5.88,234.77,5643.9,6.9876,0.03,66.09,55.2567]]"
   ]
  },
  {
   "cell_type": "code",
   "execution_count": 5,
   "metadata": {},
   "outputs": [
    {
     "data": {
      "text/plain": [
       "array([209.10374869])"
      ]
     },
     "execution_count": 5,
     "metadata": {},
     "output_type": "execute_result"
    }
   ],
   "source": [
    "prediction=lr.predict(x_val) # similar\n",
    "prediction"
   ]
  }
 ],
 "metadata": {
  "kernelspec": {
   "display_name": "Python 3.10.5 64-bit",
   "language": "python",
   "name": "python3"
  },
  "language_info": {
   "codemirror_mode": {
    "name": "ipython",
    "version": 3
   },
   "file_extension": ".py",
   "mimetype": "text/x-python",
   "name": "python",
   "nbconvert_exporter": "python",
   "pygments_lexer": "ipython3",
   "version": "3.10.5"
  },
  "orig_nbformat": 4,
  "vscode": {
   "interpreter": {
    "hash": "d21fc14708d40fb48c56d614e7852ecb21c76b8d8bf281ad1d5b7de826272bde"
   }
  }
 },
 "nbformat": 4,
 "nbformat_minor": 2
}
